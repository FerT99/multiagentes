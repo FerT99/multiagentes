{
 "cells": [
  {
   "cell_type": "markdown",
   "metadata": {},
   "source": [
    "# Cleaning Robots"
   ]
  },
  {
   "cell_type": "code",
   "execution_count": 2,
   "metadata": {},
   "outputs": [],
   "source": [
    "from mesa import Agent, Model \n",
    "from mesa.space import SingleGrid\n",
    "from mesa.time import RandomActivation\n",
    "from mesa.datacollection import DataCollector\n",
    "\n",
    "import matplotlib\n",
    "import matplotlib.pyplot as plt\n",
    "import matplotlib.animation as animation\n",
    "plt.rcParams[\"animation.html\"] = \"jshtml\"\n",
    "matplotlib.rcParams['animation.embed_limit'] = 2**128\n",
    "\n",
    "import numpy as np\n",
    "import pandas as pd\n",
    "import random\n",
    "\n",
    "import time\n",
    "import datetime"
   ]
  },
  {
   "cell_type": "markdown",
   "metadata": {},
   "source": [
    "Map syntax:\n",
    "* U: unknown\n",
    "* S: starting point\n",
    "* P: trash can \n",
    "* X: obstacle\n",
    "* 0-8: n of trash pieces "
   ]
  },
  {
   "cell_type": "code",
   "execution_count": 36,
   "metadata": {},
   "outputs": [],
   "source": [
    "# Input map. First row: n rows, n, columns\n",
    "MAP = [[4, 5],\n",
    "        [0, 1, 1, \"X\", 1],\n",
    "        [\"S\", 0, 1, 6, 7],\n",
    "        [0, \"P\", 4, 0, 7],\n",
    "        [2, 3, 5, \"X\", 0]]"
   ]
  },
  {
   "cell_type": "code",
   "execution_count": 57,
   "metadata": {},
   "outputs": [],
   "source": [
    "n_rows = MAP[0][0]\n",
    "n_cols = MAP[0][1]\n",
    "\n",
    "for i in range(n_rows):\n",
    "    for j in range(n_cols):\n",
    "        if MAP[i+1][j] == 'S':\n",
    "            STARTING_POINT = (i, j)\n",
    "        elif MAP[i+1][j] == 'P':\n",
    "            TRASHCAN_POS = (i, j)"
   ]
  },
  {
   "cell_type": "code",
   "execution_count": 58,
   "metadata": {},
   "outputs": [],
   "source": [
    "class Obstacle(Agent):\n",
    "    def __init__(self, unique_id, model):\n",
    "        super().__init__(unique_id, model)"
   ]
  },
  {
   "cell_type": "code",
   "execution_count": 61,
   "metadata": {},
   "outputs": [],
   "source": [
    "class TrashPile(Agent):\n",
    "    def __init__(self, unique_id, model, amount):\n",
    "        super().__init__(unique_id, model)\n",
    "        self.amount = amount"
   ]
  },
  {
   "cell_type": "code",
   "execution_count": 63,
   "metadata": {},
   "outputs": [],
   "source": [
    "class Robot(Agent):\n",
    "    def __init__(self, unique_id, model):\n",
    "        super().__init__(unique_id, model)\n",
    "        self.max_capacity = 5 # trash-holding max capacity (constant)\n",
    "        self.trash_picked = 0 # n of trash pieces picked and holding\n",
    "        self.known_trash = set() # known trash locations\n",
    "        self.known_obstacles = set() # known obstacle locations\n",
    "\n",
    "\n",
    "    def step(self):\n",
    "        self.update_knowledge()\n",
    "        while self.trash_picked < self.max_capacity:\n",
    "            self.explore()\n",
    "        self.offload() # PENDING... \n",
    "\n",
    "\n",
    "    def explore(self):\n",
    "        neighbors = self.model.grid.get_neighbor(self.pos, moore=True, include_center=False) # adjacent agents\n",
    "\n",
    "        # Check for neighboring obstacles\n",
    "        for neighbor in neighbors:\n",
    "            if isinstance(neighbor, Obstacle):\n",
    "                self.known_obstacles.add((neighbor.pos))\n",
    "                self.update_knowledge()\n",
    "        \n",
    "        # Valid moves are empty cells or cells containing trash\n",
    "        valid_moves = [neighbor for neighbor in neighbors \n",
    "                       if self.model.grid.is_cell_empty(neighbor)\n",
    "                       or isinstance(neighbor, TrashPile)\n",
    "                       and not(neighbor.pos == STARTING_POINT or neighbor == TRASHCAN_POS)]\n",
    "        \n",
    "        if valid_moves:\n",
    "            known_trash_pos = {trash.pos for trash in self.known_trash}\n",
    "            moves_towards_trash = [move for move in valid_moves if move.pos in known_trash_pos]\n",
    "\n",
    "            if moves_towards_trash:\n",
    "                chosen_neighbor = random.choice(moves_towards_trash)\n",
    "                self.model.grid.move_agent(self, chosen_neighbor.pos)\n",
    "                self.clean(chosen_neighbor)                \n",
    "            else:\n",
    "                chosen_neighbor = random.choice(valid_moves)\n",
    "                self.model.grid.move_agent(self, chosen_neighbor.pos)\n",
    "            \n",
    "                if isinstance(chosen_neighbor, TrashPile): # cell containing trash\n",
    "                    self.known_trash.add(chosen_neighbor)\n",
    "                    self.update_knowledge()\n",
    "                    self.clean(chosen_neighbor)                \n",
    "        else: # no valid moves\n",
    "            return\n",
    "        \n",
    "        \n",
    "    def update_knowledge(self):\n",
    "        for agent in self.model.schedule.agents:\n",
    "            if isinstance(agent, Robot) and agent != self:\n",
    "                agent.known_obstacles.update(self.known_obstacles)\n",
    "                agent.known_trash.update(self.known_trash)\n",
    "\n",
    "\n",
    "    def clean(self, trash):\n",
    "        current_capacity = self.max_capacity - self.trash_picked\n",
    "        pickup_amount = min(current_capacity, trash.amount)\n",
    "        self.trash_picked += pickup_amount\n",
    "        trash.amount -= pickup_amount\n",
    "        if trash.amount == 0:\n",
    "            self.model.grid.remove_agent(trash)\n",
    "            self.model.schedule.remove(trash)\n",
    "            self.known_trash.remove(trash)"
   ]
  },
  {
   "cell_type": "code",
   "execution_count": null,
   "metadata": {},
   "outputs": [],
   "source": []
  }
 ],
 "metadata": {
  "kernelspec": {
   "display_name": "Python 3",
   "language": "python",
   "name": "python3"
  },
  "language_info": {
   "codemirror_mode": {
    "name": "ipython",
    "version": 3
   },
   "file_extension": ".py",
   "mimetype": "text/x-python",
   "name": "python",
   "nbconvert_exporter": "python",
   "pygments_lexer": "ipython3",
   "version": "3.11.4"
  },
  "orig_nbformat": 4
 },
 "nbformat": 4,
 "nbformat_minor": 2
}
